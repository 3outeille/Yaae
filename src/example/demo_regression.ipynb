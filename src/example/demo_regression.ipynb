{
 "cells": [
  {
   "cell_type": "markdown",
   "metadata": {},
   "source": [
    "# Dataset visualization"
   ]
  },
  {
   "cell_type": "code",
   "execution_count": 5,
   "metadata": {},
   "outputs": [],
   "source": [
    "from src.yaae.engine import Node\n",
    "from sklearn.datasets import make_regression\n",
    "import matplotlib.pyplot as plt\n",
    "%matplotlib inline\n",
    "import numpy as np\n",
    "import imageio"
   ]
  },
  {
   "cell_type": "code",
   "execution_count": 6,
   "metadata": {},
   "outputs": [
    {
     "data": {
      "text/plain": [
       "<matplotlib.collections.PathCollection at 0x7fdd16dfb438>"
      ]
     },
     "execution_count": 6,
     "metadata": {},
     "output_type": "execute_result"
    },
    {
     "data": {
      "image/png": "[encoded data removed]",
      "text/plain": [
       "<Figure size 432x288 with 1 Axes>"
      ]
     },
     "metadata": {
      "needs_background": "light"
     },
     "output_type": "display_data"
    }
   ],
   "source": [
    "x, y = make_regression(n_samples=200, n_features=3, noise=10, random_state=42)\n",
    "plt.scatter(x[:, 0], y, color='blue')     "
   ]
  },
  {
   "cell_type": "markdown",
   "metadata": {},
   "source": [
    "# Model initialization"
   ]
  },
  {
   "cell_type": "code",
   "execution_count": 7,
   "metadata": {},
   "outputs": [],
   "source": [
    "X = Node(x, requires_grad=False)\n",
    "y_true = Node(y, requires_grad=False)\n",
    "W = Node(np.random.randn(3), requires_grad=True)\n",
    "b = Node(np.random.randn(1), requires_grad=True)"
   ]
  },
  {
   "cell_type": "markdown",
   "metadata": {},
   "source": [
    "# Model training"
   ]
  },
  {
   "cell_type": "code",
   "execution_count": null,
   "metadata": {
    "scrolled": true
   },
   "outputs": [
    {
     "name": "stdout",
     "output_type": "stream",
     "text": [
      "Epoch 0: train-loss: 217.14467160351808\n",
      "Epoch 20: train-loss: 217.14466077602404\n"
     ]
    }
   ],
   "source": [
    "EPOCH = 100\n",
    "lr = 0.01\n",
    "\n",
    "for epoch in range(EPOCH+1):\n",
    "    W.zero_grad()\n",
    "    b.zero_grad()\n",
    "    y_pred = X.matmul(W) + b\n",
    "    \n",
    "    errors = y_pred - y_true\n",
    "    loss = (errors * errors).sum(keepdims=False) / EPOCH\n",
    "    loss.backward()\n",
    "    W -= lr * W.grad.data \n",
    "    b -= lr * b.grad.data\n",
    "    \n",
    "    if epoch % 20 == 0:\n",
    "        print(f\"Epoch {epoch}: train-loss: {loss.data}\")\n",
    "    \n",
    "    # ------- CREATE GIF -------\n",
    "    single_pred_gif = X.data[:, 0] * W.data[0] + b.data\n",
    "    plt.scatter(x[:, 0], y, color='blue')\n",
    "    plt.plot(x[:, 0], single_pred_gif, color='red')\n",
    "    label = 'Epoch {0}'.format(epoch)\n",
    "    plt.text(0.5, -450, label, ha='center')\n",
    "    plt.savefig(\"regression/{}\".format(epoch))\n",
    "    plt.clf()\n",
    "\n",
    "# Compute R2 score.\n",
    "y_bar = np.average(y_true.data)\n",
    "SStot = np.sum((y_true.data - y_bar)**2)\n",
    "SSres = np.sum((y_true.data - y_pred.data)**2)\n",
    "r2 = 1 - (SSres/SStot)\n",
    "\n",
    "print(f\"\\nr2 score: {r2}\")"
   ]
  },
  {
   "cell_type": "markdown",
   "metadata": {},
   "source": [
    "# Result visualization"
   ]
  },
  {
   "cell_type": "code",
   "execution_count": 9,
   "metadata": {},
   "outputs": [],
   "source": [
    "single_class_pred = X.data[:, 0] * W.data[0] + b.data"
   ]
  },
  {
   "cell_type": "code",
   "execution_count": 10,
   "metadata": {},
   "outputs": [
    {
     "data": {
      "image/png": "[encoded data removed]",
      "text/plain": [
       "<Figure size 432x288 with 1 Axes>"
      ]
     },
     "metadata": {
      "needs_background": "light"
     },
     "output_type": "display_data"
    }
   ],
   "source": [
    "plt.scatter(x[:, 0], y, color='blue')\n",
    "plt.plot(x[:, 0], single_class_pred, color='red')\n",
    "plt.show()"
   ]
  },
  {
   "cell_type": "code",
   "execution_count": 11,
   "metadata": {},
   "outputs": [],
   "source": [
    "# Create Gif\n",
    "images = []\n",
    "for e in range(EPOCH):\n",
    "    img_name = 'regression/' + str(e + 1) + '.png'\n",
    "    images.append(imageio.imread(img_name))\n",
    "imageio.mimsave('regression/reg.gif', images, fps=5)"
   ]
  }
 ],
 "metadata": {
  "file_extension": ".py",
  "kernelspec": {
   "display_name": "my_yaae_env",
   "language": "python",
   "name": "my_yaae_env"
  },
  "language_info": {
   "codemirror_mode": {
    "name": "ipython",
    "version": 3
   },
   "file_extension": ".py",
   "mimetype": "text/x-python",
   "name": "python",
   "nbconvert_exporter": "python",
   "pygments_lexer": "ipython3",
   "version": "3.6.9"
  },
  "mimetype": "text/x-python",
  "name": "python",
  "npconvert_exporter": "python",
  "pygments_lexer": "ipython3",
  "version": 3
 },
 "nbformat": 4,
 "nbformat_minor": 2
}
