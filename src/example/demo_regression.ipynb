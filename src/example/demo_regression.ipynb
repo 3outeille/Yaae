{
 "cells": [
  {
   "cell_type": "markdown",
   "metadata": {},
   "source": [
    "# Dataset visualization"
   ]
  },
  {
   "cell_type": "code",
   "execution_count": 1,
   "metadata": {},
   "outputs": [],
   "source": [
    "from src.yaae.engine import Node\n",
    "from sklearn.datasets import make_regression\n",
    "import matplotlib.pyplot as plt\n",
    "%matplotlib inline\n",
    "import numpy as np"
   ]
  },
  {
   "cell_type": "code",
   "execution_count": 2,
   "metadata": {},
   "outputs": [
    {
     "data": {
      "text/plain": [
       "<matplotlib.collections.PathCollection at 0x7f6be7345978>"
      ]
     },
     "execution_count": 2,
     "metadata": {},
     "output_type": "execute_result"
    },
    {
     "data": {
      "image/png": "[encoded data removed]",
      "text/plain": [
       "<Figure size 432x288 with 1 Axes>"
      ]
     },
     "metadata": {
      "needs_background": "light"
     },
     "output_type": "display_data"
    }
   ],
   "source": [
    "x, y = make_regression(n_samples=200, n_features=3, noise=10, random_state=42)\n",
    "plt.scatter(x[:, 0], y, color='blue')     "
   ]
  },
  {
   "cell_type": "markdown",
   "metadata": {},
   "source": [
    "# Model initialization"
   ]
  },
  {
   "cell_type": "code",
   "execution_count": 3,
   "metadata": {},
   "outputs": [],
   "source": [
    "X = Node(x, requires_grad=False)\n",
    "y_true = Node(y, requires_grad=False)\n",
    "W = Node(np.random.randn(3), requires_grad=True)\n",
    "b = Node(np.random.randn(1), requires_grad=True)"
   ]
  },
  {
   "cell_type": "markdown",
   "metadata": {},
   "source": [
    "# Model training"
   ]
  },
  {
   "cell_type": "code",
   "execution_count": 4,
   "metadata": {},
   "outputs": [
    {
     "name": "stdout",
     "output_type": "stream",
     "text": [
      "Epoch 0: train-loss: 21151.29065876283\n",
      "Epoch 20: train-loss: 4810.081048047007\n",
      "Epoch 40: train-loss: 1240.5852547014981\n",
      "Epoch 60: train-loss: 448.1681566665796\n",
      "Epoch 80: train-loss: 269.8739101822472\n",
      "Epoch 100: train-loss: 229.29706659156693\n",
      "\n",
      "r2 score: 0.9887409301001124\n"
     ]
    }
   ],
   "source": [
    "EPOCH = 100\n",
    "lr = 0.01\n",
    "\n",
    "for epoch in range(EPOCH+1):\n",
    "    W.zero_grad()\n",
    "    b.zero_grad()\n",
    "    y_pred = X.matmul(W) + b\n",
    "    errors = y_pred - y_true\n",
    "    loss = (errors * errors).sum(keepdims=False) / EPOCH\n",
    "    loss.backward()\n",
    "    W -= lr * W.grad.data \n",
    "    b -= lr * b.grad.data\n",
    "    if epoch % 20 == 0:\n",
    "        print(f\"Epoch {epoch}: train-loss: {loss.data}\")\n",
    "\n",
    "# Compute R2 score.\n",
    "y_bar = np.average(y_true.data)\n",
    "SStot = np.sum((y_true.data - y_bar)**2)\n",
    "SSres = np.sum((y_true.data - y_pred.data)**2)\n",
    "r2 = 1 - (SSres/SStot)\n",
    "\n",
    "print(f\"\\nr2 score: {r2}\")"
   ]
  },
  {
   "cell_type": "markdown",
   "metadata": {},
   "source": [
    "# Result visualization"
   ]
  },
  {
   "cell_type": "code",
   "execution_count": 5,
   "metadata": {},
   "outputs": [],
   "source": [
    "single_class_pred = X.data[:, 0] * W.data[0] + b.data"
   ]
  },
  {
   "cell_type": "code",
   "execution_count": 6,
   "metadata": {},
   "outputs": [
    {
     "data": {
      "image/png": "[encoded data removed]",
      "text/plain": [
       "<Figure size 432x288 with 1 Axes>"
      ]
     },
     "metadata": {
      "needs_background": "light"
     },
     "output_type": "display_data"
    }
   ],
   "source": [
    "plt.scatter(x[:, 0], y, color='blue')\n",
    "plt.plot(x[:, 0], single_class_pred, color='red')\n",
    "plt.show()"
   ]
  }
 ],
 "metadata": {
  "file_extension": ".py",
  "kernelspec": {
   "display_name": "my_yaae_env",
   "language": "python",
   "name": "my_yaae_env"
  },
  "language_info": {
   "codemirror_mode": {
    "name": "ipython",
    "version": 3
   },
   "file_extension": ".py",
   "mimetype": "text/x-python",
   "name": "python",
   "nbconvert_exporter": "python",
   "pygments_lexer": "ipython3",
   "version": "3.6.9"
  },
  "mimetype": "text/x-python",
  "name": "python",
  "npconvert_exporter": "python",
  "pygments_lexer": "ipython3",
  "version": 3
 },
 "nbformat": 4,
 "nbformat_minor": 2
}
